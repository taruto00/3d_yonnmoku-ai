{
  "nbformat": 4,
  "nbformat_minor": 0,
  "metadata": {
    "colab": {
      "provenance": []
    },
    "kernelspec": {
      "name": "python3",
      "display_name": "Python 3"
    },
    "language_info": {
      "name": "python"
    }
  },
  "cells": [
    {
      "cell_type": "code",
      "source": [
        "import os, json, time, shutil\n",
        "from pathlib import Path\n",
        "from google.colab import drive\n",
        "from tensorflow.keras import backend as K\n",
        "\n",
        "# ---------- 0) Google Drive ----------\n",
        "drive.mount('/content/drive', force_remount=False)\n",
        "\n",
        "ROOT = Path('/content/drive/MyDrive/azero_3d')\n",
        "MODEL_DIR = ROOT / 'model'\n",
        "DATA_DIR  = ROOT / 'data'\n",
        "MODEL_DIR.mkdir(parents=True, exist_ok=True)\n",
        "DATA_DIR.mkdir(exist_ok=True)\n",
        "\n",
        "# ---------- 1) コード置き場に移動 ----------\n",
        "%cd /content/drive/MyDrive/sample/3dyonnmoku/train_code_new\n",
        "import sys; sys.path.append(os.getcwd())"
      ],
      "metadata": {
        "colab": {
          "base_uri": "https://localhost:8080/"
        },
        "id": "-Ea9WCTPlp-n",
        "outputId": "a3e67b48-bdec-46c7-f9e6-dde1074c0f6d"
      },
      "execution_count": 3,
      "outputs": [
        {
          "output_type": "stream",
          "name": "stdout",
          "text": [
            "Mounted at /content/drive\n",
            "/content/drive/MyDrive/sample/3dyonnmoku/train_code_new\n"
          ]
        }
      ]
    },
    {
      "cell_type": "code",
      "execution_count": 8,
      "metadata": {
        "id": "ShlWpog4lEpr"
      },
      "outputs": [],
      "source": [
        "# スニペット例（*一度だけ* 実行してファイルを作る）\n",
        "from game import State\n",
        "from dual_network import DN_OUTPUT_SIZE\n",
        "import pickle\n",
        "forced_history = []\n",
        "s = State()\n",
        "for (x,y) in [(0,0), (3,3), (0,3)]:      # ここまで進める\n",
        "    s = s.place(x,y)\n",
        "\n",
        "policies = [0.0]*DN_OUTPUT_SIZE\n",
        "# 次の “必勝手” (3,0) を 100% にする\n",
        "col_id = 3 + 4*0      # x=3, y=0 ⇒ idx = 3\n",
        "policies[col_id] = 1.0\n",
        "forced_history.append([[s.pieces, s.enemy_pieces], policies, +1])\n",
        "\n",
        "with open('./data/forced_parallel.history','wb') as f:\n",
        "    pickle.dump(forced_history, f)\n"
      ]
    }
  ]
}